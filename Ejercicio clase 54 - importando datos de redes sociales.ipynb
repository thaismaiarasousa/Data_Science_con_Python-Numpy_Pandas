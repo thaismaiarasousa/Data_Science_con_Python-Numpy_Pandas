{
 "cells": [
  {
   "cell_type": "code",
   "execution_count": 6,
   "id": "73088991",
   "metadata": {},
   "outputs": [],
   "source": [
    "import json"
   ]
  },
  {
   "cell_type": "markdown",
   "id": "dafd90b5",
   "metadata": {},
   "source": [
    "# Ejemplo Google Maps API"
   ]
  },
  {
   "cell_type": "code",
   "execution_count": 7,
   "id": "8c850df3",
   "metadata": {},
   "outputs": [],
   "source": [
    "import requests\n",
    "\n",
    "path1='42.974049,-81.205203|42.974298,-81.195755'\n",
    "r=requests.get('https://maps.googleapis.com/maps/api/elevation/json?locations='+path1+'&sensor=false')"
   ]
  },
  {
   "cell_type": "code",
   "execution_count": 8,
   "id": "84718f6c",
   "metadata": {},
   "outputs": [],
   "source": [
    "html_doc=r.text"
   ]
  },
  {
   "cell_type": "markdown",
   "id": "2e84b793",
   "metadata": {},
   "source": [
    "# Ejemplo Twitter"
   ]
  },
  {
   "cell_type": "code",
   "execution_count": 13,
   "id": "737c1827",
   "metadata": {},
   "outputs": [],
   "source": [
    "import tweepy"
   ]
  },
  {
   "cell_type": "code",
   "execution_count": 14,
   "id": "db6d6ba3",
   "metadata": {},
   "outputs": [],
   "source": [
    "consumer_key=''\n",
    "consumer_secret=''\n",
    "access_token=''\n",
    "access_token_secret=''\n"
   ]
  },
  {
   "cell_type": "code",
   "execution_count": 17,
   "id": "1b165251",
   "metadata": {},
   "outputs": [],
   "source": [
    "auth = tweepy.OAuthHandler(consumer_key,consumer_secret)\n",
    "auth.set_access_token(access_token, access_token_secret)\n",
    "api = tweepy.API(auth)\n",
    "#api = tweepy.API(auth, parser=tweepy.parsers.JSONParser())"
   ]
  },
  {
   "cell_type": "code",
   "execution_count": 21,
   "id": "004f16f4",
   "metadata": {},
   "outputs": [
    {
     "ename": "AttributeError",
     "evalue": "'API' object has no attribute 'me'",
     "output_type": "error",
     "traceback": [
      "\u001b[1;31m---------------------------------------------------------------------------\u001b[0m",
      "\u001b[1;31mAttributeError\u001b[0m                            Traceback (most recent call last)",
      "Input \u001b[1;32mIn [21]\u001b[0m, in \u001b[0;36m<cell line: 1>\u001b[1;34m()\u001b[0m\n\u001b[1;32m----> 1\u001b[0m \u001b[38;5;28mprint\u001b[39m(\u001b[43mapi\u001b[49m\u001b[38;5;241;43m.\u001b[39;49m\u001b[43mme\u001b[49m()\u001b[38;5;241m.\u001b[39mname)\n",
      "\u001b[1;31mAttributeError\u001b[0m: 'API' object has no attribute 'me'"
     ]
    }
   ],
   "source": [
    "print(api.me().name)"
   ]
  },
  {
   "cell_type": "code",
   "execution_count": null,
   "id": "88c02495",
   "metadata": {},
   "outputs": [],
   "source": []
  }
 ],
 "metadata": {
  "kernelspec": {
   "display_name": "Python 3 (ipykernel)",
   "language": "python",
   "name": "python3"
  },
  "language_info": {
   "codemirror_mode": {
    "name": "ipython",
    "version": 3
   },
   "file_extension": ".py",
   "mimetype": "text/x-python",
   "name": "python",
   "nbconvert_exporter": "python",
   "pygments_lexer": "ipython3",
   "version": "3.9.12"
  }
 },
 "nbformat": 4,
 "nbformat_minor": 5
}
