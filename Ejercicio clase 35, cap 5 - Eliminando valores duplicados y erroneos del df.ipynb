{
 "cells": [
  {
   "cell_type": "code",
   "execution_count": 20,
   "id": "bb03b67d",
   "metadata": {},
   "outputs": [],
   "source": [
    "import pandas as pd"
   ]
  },
  {
   "cell_type": "code",
   "execution_count": 35,
   "id": "ec6d1c34",
   "metadata": {},
   "outputs": [],
   "source": [
    "df=pd.read_csv(r'C:\\Users\\thais\\Desktop\\Curso Python e Analise de Dados\\Datasets+Data+Science+con+Python+-+Pandas\\5.6\\PEATONES_2020_mod.csv', delimiter=\";\", encoding=\"ISO-8859-1\",index_col=2)"
   ]
  },
  {
   "cell_type": "code",
   "execution_count": 36,
   "id": "65258665",
   "metadata": {},
   "outputs": [],
   "source": [
    "# Verificar el numero de registros"
   ]
  },
  {
   "cell_type": "code",
   "execution_count": 40,
   "id": "8dec904a",
   "metadata": {},
   "outputs": [
    {
     "data": {
      "text/plain": [
       "(288755, 11)"
      ]
     },
     "execution_count": 40,
     "metadata": {},
     "output_type": "execute_result"
    }
   ],
   "source": [
    "df.shape"
   ]
  },
  {
   "cell_type": "code",
   "execution_count": 38,
   "id": "062bd8b1",
   "metadata": {},
   "outputs": [],
   "source": [
    "# Eliminar los registros que tienen los valores de todas las columnas iguales"
   ]
  },
  {
   "cell_type": "code",
   "execution_count": 44,
   "id": "b50677c2",
   "metadata": {},
   "outputs": [],
   "source": [
    "df.drop_duplicates(inplace=True)"
   ]
  },
  {
   "cell_type": "code",
   "execution_count": 45,
   "id": "6ca71df5",
   "metadata": {},
   "outputs": [
    {
     "data": {
      "text/plain": [
       "(288749, 11)"
      ]
     },
     "execution_count": 45,
     "metadata": {},
     "output_type": "execute_result"
    }
   ],
   "source": [
    "df.shape"
   ]
  },
  {
   "cell_type": "code",
   "execution_count": 7,
   "id": "90257141",
   "metadata": {},
   "outputs": [],
   "source": [
    "# Quantos valors duplicados existian?"
   ]
  },
  {
   "cell_type": "code",
   "execution_count": 46,
   "id": "bfa4b060",
   "metadata": {},
   "outputs": [],
   "source": [
    "variable_duplicados=288755-288749"
   ]
  },
  {
   "cell_type": "code",
   "execution_count": 47,
   "id": "9f08ea7a",
   "metadata": {},
   "outputs": [
    {
     "data": {
      "text/plain": [
       "6"
      ]
     },
     "execution_count": 47,
     "metadata": {},
     "output_type": "execute_result"
    }
   ],
   "source": [
    "variable_duplicados"
   ]
  },
  {
   "cell_type": "code",
   "execution_count": 8,
   "id": "1d8ae64a",
   "metadata": {},
   "outputs": [],
   "source": [
    "# Eliminar todos los valores erroneos del df"
   ]
  },
  {
   "cell_type": "code",
   "execution_count": 48,
   "id": "b472c53b",
   "metadata": {},
   "outputs": [],
   "source": [
    "df.dropna(inplace=True)"
   ]
  },
  {
   "cell_type": "code",
   "execution_count": 49,
   "id": "b42d2655",
   "metadata": {},
   "outputs": [
    {
     "data": {
      "text/plain": [
       "(284863, 11)"
      ]
     },
     "execution_count": 49,
     "metadata": {},
     "output_type": "execute_result"
    }
   ],
   "source": [
    "df.shape"
   ]
  },
  {
   "cell_type": "code",
   "execution_count": 9,
   "id": "5dfc236d",
   "metadata": {},
   "outputs": [],
   "source": [
    "# Cuantos valores NaN existian?"
   ]
  },
  {
   "cell_type": "code",
   "execution_count": 50,
   "id": "b028502a",
   "metadata": {},
   "outputs": [],
   "source": [
    "variables_nan = 288749 - 284863"
   ]
  },
  {
   "cell_type": "code",
   "execution_count": 51,
   "id": "c35a5a9f",
   "metadata": {},
   "outputs": [
    {
     "data": {
      "text/plain": [
       "3886"
      ]
     },
     "execution_count": 51,
     "metadata": {},
     "output_type": "execute_result"
    }
   ],
   "source": [
    "variables_nan"
   ]
  },
  {
   "cell_type": "code",
   "execution_count": 10,
   "id": "a955e5ed",
   "metadata": {},
   "outputs": [],
   "source": [
    "# Que porcentaje de los datos originales eran erroneos?"
   ]
  },
  {
   "cell_type": "code",
   "execution_count": 53,
   "id": "ff59f4b7",
   "metadata": {},
   "outputs": [
    {
     "data": {
      "text/plain": [
       "1.3457775622932937"
      ]
     },
     "execution_count": 53,
     "metadata": {},
     "output_type": "execute_result"
    }
   ],
   "source": [
    "variables_nan/288755*100"
   ]
  },
  {
   "cell_type": "code",
   "execution_count": null,
   "id": "4dceed77",
   "metadata": {},
   "outputs": [],
   "source": []
  }
 ],
 "metadata": {
  "kernelspec": {
   "display_name": "Python 3 (ipykernel)",
   "language": "python",
   "name": "python3"
  },
  "language_info": {
   "codemirror_mode": {
    "name": "ipython",
    "version": 3
   },
   "file_extension": ".py",
   "mimetype": "text/x-python",
   "name": "python",
   "nbconvert_exporter": "python",
   "pygments_lexer": "ipython3",
   "version": "3.9.12"
  }
 },
 "nbformat": 4,
 "nbformat_minor": 5
}
